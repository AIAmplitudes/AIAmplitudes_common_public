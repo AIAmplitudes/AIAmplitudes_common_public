{
 "cells": [
  {
   "cell_type": "code",
   "execution_count": 1,
   "id": "7b25e67f",
   "metadata": {},
   "outputs": [
    {
     "ename": "ImportError",
     "evalue": "cannot import name 'Github' from 'github' (/home/garrett/.local/lib/python3.10/site-packages/github/__init__.py)",
     "output_type": "error",
     "traceback": [
      "\u001b[0;31m---------------------------------------------------------------------------\u001b[0m",
      "\u001b[0;31mImportError\u001b[0m                               Traceback (most recent call last)",
      "Cell \u001b[0;32mIn[1], line 1\u001b[0m\n\u001b[0;32m----> 1\u001b[0m \u001b[38;5;28;01mfrom\u001b[39;00m \u001b[38;5;21;01mgithub\u001b[39;00m \u001b[38;5;28;01mimport\u001b[39;00m Github\n\u001b[1;32m      3\u001b[0m token \u001b[38;5;241m=\u001b[39m \u001b[38;5;124m\"\u001b[39m\u001b[38;5;124myour_github_token_here\u001b[39m\u001b[38;5;124m\"\u001b[39m\n\u001b[1;32m      4\u001b[0m g \u001b[38;5;241m=\u001b[39m Github(token)\n",
      "\u001b[0;31mImportError\u001b[0m: cannot import name 'Github' from 'github' (/home/garrett/.local/lib/python3.10/site-packages/github/__init__.py)"
     ]
    }
   ],
   "source": [
    "from github import Github\n",
    "\n",
    "token = \"your_github_token_here\"\n",
    "g = Github(token)\n",
    "repo = g.get_repo(\"username/repository\")\n",
    "contents = repo.get_contents(\"\")"
   ]
  },
  {
   "cell_type": "code",
   "execution_count": null,
   "id": "267141cf",
   "metadata": {},
   "outputs": [],
   "source": []
  }
 ],
 "metadata": {
  "kernelspec": {
   "display_name": "AIAA_fresh",
   "language": "python",
   "name": "aiaa_fresh"
  },
  "language_info": {
   "codemirror_mode": {
    "name": "ipython",
    "version": 3
   },
   "file_extension": ".py",
   "mimetype": "text/x-python",
   "name": "python",
   "nbconvert_exporter": "python",
   "pygments_lexer": "ipython3",
   "version": "3.10.12"
  }
 },
 "nbformat": 4,
 "nbformat_minor": 5
}
